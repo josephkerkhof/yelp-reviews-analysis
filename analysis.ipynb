{
 "cells": [
  {
   "cell_type": "code",
   "execution_count": 1,
   "metadata": {},
   "outputs": [],
   "source": [
    "# importing packages\n",
    "import pandas as pd\n",
    "import numpy as np\n",
    "import os\n",
    "from tqdm.notebook import trange, tqdm\n",
    "pd.set_option('display.max_colwidth', -1) # so we can view our entire review\n"
   ]
  },
  {
   "cell_type": "code",
   "execution_count": 2,
   "metadata": {},
   "outputs": [
    {
     "output_type": "display_data",
     "data": {
      "text/plain": "HBox(children=(HTML(value='Loading sent_segs'), FloatProgress(value=0.0), HTML(value='')))",
      "application/vnd.jupyter.widget-view+json": {
       "version_major": 2,
       "version_minor": 0,
       "model_id": "71b98836c82c45c5a7937cad398a8fd7"
      }
     },
     "metadata": {}
    },
    {
     "output_type": "stream",
     "name": "stdout",
     "text": [
      "\narray length: 100\n"
     ]
    }
   ],
   "source": [
    "# loading the data\n",
    "n_segs = 100\n",
    "reviews_seg = []\n",
    "for n in tqdm(range(n_segs), desc='Loading sent_segs'):\n",
    "    reviews_seg.append(pd.read_csv('data/sent_segs/reviews/yelp_data_prep_' + str(n) + '.csv', lineterminator='\\n'))\n",
    "\n",
    "# businesses = pd.read_json('data/yelp_academic_dataset_business.json', lines=True)"
   ]
  },
  {
   "cell_type": "code",
   "execution_count": null,
   "metadata": {},
   "outputs": [],
   "source": []
  }
 ],
 "metadata": {
  "kernelspec": {
   "display_name": "Python 3",
   "language": "python",
   "name": "python3"
  },
  "language_info": {
   "codemirror_mode": {
    "name": "ipython",
    "version": 3
   },
   "file_extension": ".py",
   "mimetype": "text/x-python",
   "name": "python",
   "nbconvert_exporter": "python",
   "pygments_lexer": "ipython3",
   "version": "3.8.5-final"
  }
 },
 "nbformat": 4,
 "nbformat_minor": 4
}